{
  "cells": [
    {
      "cell_type": "markdown",
      "metadata": {
        "id": "view-in-github",
        "colab_type": "text"
      },
      "source": [
        "<a href=\"https://colab.research.google.com/github/devparikh0506/DATA-603/blob/main/assignment-3/DATA_603_Chicago_Crime_EDA.ipynb\" target=\"_parent\"><img src=\"https://colab.research.google.com/assets/colab-badge.svg\" alt=\"Open In Colab\"/></a>"
      ]
    },
    {
      "cell_type": "code",
      "execution_count": null,
      "metadata": {
        "colab": {
          "base_uri": "https://localhost:8080/",
          "height": 604
        },
        "id": "auoBTYB1jqTf",
        "outputId": "ce8f7b5b-c804-4618-d043-4447dbb81b9e"
      },
      "outputs": [
        {
          "output_type": "stream",
          "name": "stdout",
          "text": [
            "\u001b[33m\r0% [Working]\u001b[0m\r            \rHit:1 https://cloud.r-project.org/bin/linux/ubuntu jammy-cran40/ InRelease\n",
            "\u001b[33m\r0% [Waiting for headers] [Waiting for headers] [Connected to r2u.stat.illinois.\u001b[0m\r                                                                               \rHit:2 https://developer.download.nvidia.com/compute/cuda/repos/ubuntu2204/x86_64  InRelease\n",
            "\u001b[33m\r0% [Waiting for headers] [Waiting for headers] [Connected to r2u.stat.illinois.\u001b[0m\r                                                                               \rHit:3 http://security.ubuntu.com/ubuntu jammy-security InRelease\n",
            "\u001b[33m\r0% [Waiting for headers] [Connected to r2u.stat.illinois.edu (192.17.190.167)] \u001b[0m\r                                                                               \rHit:4 https://ppa.launchpadcontent.net/deadsnakes/ppa/ubuntu jammy InRelease\n",
            "\u001b[33m\r0% [Waiting for headers] [Connected to r2u.stat.illinois.edu (192.17.190.167)] \u001b[0m\r                                                                               \rHit:5 http://archive.ubuntu.com/ubuntu jammy InRelease\n",
            "\u001b[33m\r                                                                               \r0% [Connected to r2u.stat.illinois.edu (192.17.190.167)] [Waiting for headers]\u001b[0m\r                                                                              \rHit:6 https://ppa.launchpadcontent.net/graphics-drivers/ppa/ubuntu jammy InRelease\n",
            "\u001b[33m\r0% [Waiting for headers] [Connected to r2u.stat.illinois.edu (192.17.190.167)] \u001b[0m\r                                                                               \rHit:7 https://ppa.launchpadcontent.net/ubuntugis/ppa/ubuntu jammy InRelease\n",
            "Hit:8 http://archive.ubuntu.com/ubuntu jammy-updates InRelease\n",
            "Hit:9 http://archive.ubuntu.com/ubuntu jammy-backports InRelease\n",
            "Ign:10 https://r2u.stat.illinois.edu/ubuntu jammy InRelease\n",
            "Hit:11 https://r2u.stat.illinois.edu/ubuntu jammy Release\n",
            "Reading package lists... Done\n",
            "Building dependency tree... Done\n",
            "Reading state information... Done\n",
            "51 packages can be upgraded. Run 'apt list --upgradable' to see them.\n",
            "\u001b[1;33mW: \u001b[0mSkipping acquire of configured file 'main/source/Sources' as repository 'https://r2u.stat.illinois.edu/ubuntu jammy InRelease' does not seem to provide it (sources.list entry misspelt?)\u001b[0m\n",
            "tar: spark-3.2.1-bin-hadoop3.2.tgz: Cannot open: No such file or directory\n",
            "tar: Error is not recoverable: exiting now\n",
            "Requirement already satisfied: pyspark in /usr/local/lib/python3.10/dist-packages (3.5.3)\n",
            "Requirement already satisfied: py4j==0.10.9.7 in /usr/local/lib/python3.10/dist-packages (from pyspark) (0.10.9.7)\n",
            "Requirement already satisfied: py4j in /usr/local/lib/python3.10/dist-packages (0.10.9.7)\n"
          ]
        },
        {
          "output_type": "execute_result",
          "data": {
            "text/plain": [
              "<pyspark.sql.session.SparkSession at 0x7f21f3493310>"
            ],
            "text/html": [
              "\n",
              "            <div>\n",
              "                <p><b>SparkSession - in-memory</b></p>\n",
              "                \n",
              "        <div>\n",
              "            <p><b>SparkContext</b></p>\n",
              "\n",
              "            <p><a href=\"http://c3f738b2113d:4040\">Spark UI</a></p>\n",
              "\n",
              "            <dl>\n",
              "              <dt>Version</dt>\n",
              "                <dd><code>v3.5.3</code></dd>\n",
              "              <dt>Master</dt>\n",
              "                <dd><code>local[*]</code></dd>\n",
              "              <dt>AppName</dt>\n",
              "                <dd><code>ChicagoCrimeEDA</code></dd>\n",
              "            </dl>\n",
              "        </div>\n",
              "        \n",
              "            </div>\n",
              "        "
            ]
          },
          "metadata": {},
          "execution_count": 85
        }
      ],
      "source": [
        "# Following code to install spark in google colab refered from here : https://colab.research.google.com/drive/1fa2G3YuXx3Isqyby5kFETqmWotFwtqlH?usp=sharing\n",
        "!sudo apt update\n",
        "!apt-get install openjdk-8-jdk-headless -qq > /dev/null\n",
        "#Check this site for the latest download link https://www.apache.org/dyn/closer.lua/spark/spark-3.2.1/spark-3.2.1-bin-hadoop3.2.tgz\n",
        "!wget -q https://dlcdn.apache.org/spark/spark-3.2.1/spark-3.2.1-bin-hadoop3.2.tgz\n",
        "!tar xf spark-3.2.1-bin-hadoop3.2.tgz\n",
        "!pip install -q findspark\n",
        "!pip install pyspark\n",
        "!pip install py4j\n",
        "\n",
        "# os.environ[\"JAVA_HOME\"] = \"/usr/lib/jvm/java-8-openjdk-amd64\"\n",
        "# os.environ[\"SPARK_HOME\"] = \"/content/spark-3.2.1-bin-hadoop3.2\"\n",
        "\n",
        "\n",
        "import findspark\n",
        "findspark.init()\n",
        "findspark.find()\n",
        "\n",
        "import pyspark\n",
        "\n",
        "from pyspark.sql import DataFrame, SparkSession\n",
        "from typing import List\n",
        "from pyspark.sql.functions import *\n",
        "from pyspark.sql.types import StructType, StructField, StringType, IntegerType, DoubleType, TimestampType, BooleanType\n",
        "\n",
        "spark_session = SparkSession.builder.appName(\"ChicagoCrimeEDA\").getOrCreate()\n",
        "sc = spark_session.sparkContext\n",
        "\n",
        "spark_session"
      ]
    },
    {
      "cell_type": "markdown",
      "metadata": {
        "id": "K6m44Pgrj-uH"
      },
      "source": [
        "Defining schema"
      ]
    },
    {
      "cell_type": "code",
      "execution_count": null,
      "metadata": {
        "id": "Xq5HxywOj6CK"
      },
      "outputs": [],
      "source": [
        "# For this data I'll define string types for numeric columns as well.\n",
        "# Because the API i am using to get the JSON data is giving string values for all numeric columns.\n",
        "# Later I will convert necessary columns to appropriate types\n",
        "\n",
        "schema = StructType([\n",
        "    StructField(\"id\", StringType(), True),\n",
        "    StructField(\"case_number\", StringType(), True),\n",
        "    StructField(\"date\", StringType(), True),\n",
        "    StructField(\"block\", StringType(), True),\n",
        "    StructField(\"iucr\", StringType(), True),\n",
        "    StructField(\"primary_type\", StringType(), True),\n",
        "    StructField(\"description\", StringType(), True),\n",
        "    StructField(\"location_description\", StringType(), True),\n",
        "    StructField(\"arrest\", BooleanType(), True),\n",
        "    StructField(\"domestic\", BooleanType(), True),\n",
        "    StructField(\"beat\", StringType(), True),\n",
        "    StructField(\"district\", StringType(), True),\n",
        "    StructField(\"ward\", StringType(), True),\n",
        "    StructField(\"community_area\", StringType(), True),\n",
        "    StructField(\"fbi_code\", StringType(), True),\n",
        "    StructField(\"x_coordinate\", StringType(), True),\n",
        "    StructField(\"y_coordinate\", StringType(), True),\n",
        "    StructField(\"year\", StringType(), True),\n",
        "    StructField(\"updated_on\", StringType(), True),\n",
        "    StructField(\"latitude\", StringType(), True),\n",
        "    StructField(\"longitude\", StringType(), True),\n",
        "    StructField(\"location\", StringType(), True)\n",
        "])"
      ]
    },
    {
      "cell_type": "markdown",
      "metadata": {
        "id": "WuNd73LSkk9J"
      },
      "source": [
        "### Loading data\n",
        "\n",
        "For this project I will load data using SODA API which is mentioned by the data source itself.\n",
        "\n",
        "Reference : https://dev.socrata.com/foundry/data.cityofchicago.org/ijzp-q8t2"
      ]
    },
    {
      "cell_type": "code",
      "execution_count": null,
      "metadata": {
        "colab": {
          "base_uri": "https://localhost:8080/"
        },
        "id": "qQpYqRl0rdwA",
        "outputId": "75e5c391-7b01-4c24-b366-0213f768e9a3"
      },
      "outputs": [
        {
          "output_type": "stream",
          "name": "stdout",
          "text": [
            "Requirement already satisfied: sodapy in /usr/local/lib/python3.10/dist-packages (2.2.0)\n",
            "Requirement already satisfied: requests>=2.28.1 in /usr/local/lib/python3.10/dist-packages (from sodapy) (2.32.3)\n",
            "Requirement already satisfied: charset-normalizer<4,>=2 in /usr/local/lib/python3.10/dist-packages (from requests>=2.28.1->sodapy) (3.4.0)\n",
            "Requirement already satisfied: idna<4,>=2.5 in /usr/local/lib/python3.10/dist-packages (from requests>=2.28.1->sodapy) (3.10)\n",
            "Requirement already satisfied: urllib3<3,>=1.21.1 in /usr/local/lib/python3.10/dist-packages (from requests>=2.28.1->sodapy) (2.2.3)\n",
            "Requirement already satisfied: certifi>=2017.4.17 in /usr/local/lib/python3.10/dist-packages (from requests>=2.28.1->sodapy) (2024.8.30)\n"
          ]
        }
      ],
      "source": [
        "!pip install sodapy"
      ]
    },
    {
      "cell_type": "code",
      "execution_count": null,
      "metadata": {
        "id": "DfUkE4LPvR2-"
      },
      "outputs": [],
      "source": [
        "from sodapy import Socrata\n",
        "import datetime"
      ]
    },
    {
      "cell_type": "markdown",
      "source": [
        "Since the data too large and with SODA API we can request only limited data at once I will load data for each year separately.\n",
        "\n",
        "The logic is :\n",
        "- First initialize client\n",
        "- Start looping over the years till 2001 starting from current year\n",
        "- For each year first load 500000 entries using request and if the data count is less than 500000 then load other 500000 entries and continue this loop until we get data size less than 500000. **Note: We can change the limit 500000 to any number.**\n",
        "- Then store the data of each year into separate csv file using pandas under same directory\n",
        "- Finally load data inside target directory using pyspark and return the dataframe"
      ],
      "metadata": {
        "id": "Q_3rfiwrGq4p"
      }
    },
    {
      "cell_type": "code",
      "source": [
        "column_order = [\n",
        "    \"id\",\n",
        "    \"case_number\",\n",
        "    \"date\",\n",
        "    \"block\",\n",
        "    \"iucr\",\n",
        "    \"primary_type\",\n",
        "    \"description\",\n",
        "    \"location_description\",\n",
        "    \"arrest\",\n",
        "    \"domestic\",\n",
        "    \"beat\",\n",
        "    \"district\",\n",
        "    \"ward\",\n",
        "    \"community_area\",\n",
        "    \"fbi_code\",\n",
        "    \"x_coordinate\",\n",
        "    \"y_coordinate\",\n",
        "    \"year\",\n",
        "    \"updated_on\",\n",
        "    \"latitude\",\n",
        "    \"longitude\",\n",
        "    \"location\"\n",
        "]"
      ],
      "metadata": {
        "id": "7cd7hS0YaKV4"
      },
      "execution_count": 132,
      "outputs": []
    },
    {
      "cell_type": "code",
      "execution_count": 139,
      "metadata": {
        "colab": {
          "base_uri": "https://localhost:8080/"
        },
        "id": "HUwNvU9_uzzu",
        "outputId": "88647f37-27cf-46f6-c1ef-1bcb63fc86a8"
      },
      "outputs": [
        {
          "output_type": "stream",
          "name": "stderr",
          "text": [
            "WARNING:root:Requests made without an app_token will be subject to strict throttling limits.\n"
          ]
        },
        {
          "output_type": "stream",
          "name": "stdout",
          "text": [
            "Loading data for year : 2024\n",
            "Successfully loaded data for year(2024) =========> Data size : 209572(rows)\n",
            "Loading data for year : 2023\n",
            "Successfully loaded data for year(2023) =========> Data size : 262599(rows)\n",
            "Loading data for year : 2022\n",
            "Successfully loaded data for year(2022) =========> Data size : 239569(rows)\n",
            "Loading data for year : 2021\n",
            "Successfully loaded data for year(2021) =========> Data size : 209362(rows)\n",
            "Loading data for year : 2020\n",
            "Successfully loaded data for year(2020) =========> Data size : 212498(rows)\n",
            "Loading data for year : 2019\n",
            "Successfully loaded data for year(2019) =========> Data size : 261519(rows)\n",
            "Loading data for year : 2018\n",
            "Successfully loaded data for year(2018) =========> Data size : 269051(rows)\n",
            "Loading data for year : 2017\n",
            "Successfully loaded data for year(2017) =========> Data size : 269201(rows)\n",
            "Loading data for year : 2016\n",
            "Successfully loaded data for year(2016) =========> Data size : 269921(rows)\n",
            "Loading data for year : 2015\n",
            "Successfully loaded data for year(2015) =========> Data size : 264857(rows)\n",
            "Loading data for year : 2014\n",
            "Successfully loaded data for year(2014) =========> Data size : 275854(rows)\n",
            "Loading data for year : 2013\n",
            "Successfully loaded data for year(2013) =========> Data size : 307584(rows)\n",
            "Loading data for year : 2012\n",
            "Successfully loaded data for year(2012) =========> Data size : 336343(rows)\n",
            "Loading data for year : 2011\n",
            "Successfully loaded data for year(2011) =========> Data size : 352019(rows)\n",
            "Loading data for year : 2010\n",
            "Successfully loaded data for year(2010) =========> Data size : 370541(rows)\n",
            "Loading data for year : 2009\n",
            "Successfully loaded data for year(2009) =========> Data size : 392848(rows)\n",
            "Loading data for year : 2008\n",
            "Successfully loaded data for year(2008) =========> Data size : 427198(rows)\n",
            "Loading data for year : 2007\n",
            "Successfully loaded data for year(2007) =========> Data size : 437096(rows)\n",
            "Loading data for year : 2006\n",
            "Successfully loaded data for year(2006) =========> Data size : 448193(rows)\n",
            "Loading data for year : 2005\n",
            "Successfully loaded data for year(2005) =========> Data size : 453778(rows)\n",
            "Loading data for year : 2004\n",
            "Successfully loaded data for year(2004) =========> Data size : 469433(rows)\n",
            "File already exists for year : 2003\n",
            "File already exists for year : 2002\n",
            "File already exists for year : 2001\n",
            "Successfully loaded all data\n"
          ]
        }
      ],
      "source": [
        "from pathlib import Path\n",
        "import pandas as pd\n",
        "import os\n",
        "\n",
        "def load_chicago_crime_data_for_year(year : int , client , offset=0, limit=500_000):\n",
        "  \"\"\"\n",
        "  Loads Chicago crime data for a given year.\n",
        "  \"\"\"\n",
        "  try:\n",
        "    results = client.get(\"ijzp-q8t2\", limit=limit, offset=offset, year=year)\n",
        "    if not (len(results) < limit):\n",
        "      results += load_chicago_crime_data_for_year(year, client, offset=offset + limit, limit=limit)\n",
        "    return results\n",
        "  except Exception as e:\n",
        "    print(f\"Error loading data for year({year}):\\n{e}\")\n",
        "    return []\n",
        "\n",
        "def load_chicago_crime_data(limit=None):\n",
        "  \"\"\"\n",
        "  Loads Chicago crime data.\n",
        "  If limit is provided, it will load only that many rows.\n",
        "  If limit is not provided, it will load all rows.\n",
        "  \"\"\"\n",
        "  client = Socrata(\"data.cityofchicago.org\", None)\n",
        "  years = range(datetime.datetime.now().year, 2000, -1)\n",
        "  loaded_data_count=0\n",
        "  dir = './data'\n",
        "  Path(dir).mkdir(parents=True, exist_ok=True)\n",
        "  for year in years:\n",
        "      filename = f\"{dir}/data_{year}.csv\"\n",
        "      if os.path.isfile(filename) :\n",
        "        print(f\"File already exists for year : {year}\")\n",
        "        continue\n",
        "      print(f\"Loading data for year : {year}\")\n",
        "      data = load_chicago_crime_data_for_year(year, client)\n",
        "      temp_pd_df = pd.DataFrame(data)[column_order]\n",
        "\n",
        "      #saving year data into csv\n",
        "      temp_pd_df.to_csv(filename, index=False)\n",
        "      #saving year data into csv\n",
        "      temp_df_count = len(data)\n",
        "      loaded_data_count += temp_df_count\n",
        "      if limit and loaded_data_count >= limit:\n",
        "          break\n",
        "      print(f\"Successfully loaded data for year({year}) =========> Data size : {temp_df_count}(rows)\")\n",
        "  df = spark_session.read.csv(dir, header=True, schema=schema)\n",
        "  print(f\"Successfully loaded all data\")\n",
        "  return df\n",
        "\n",
        "crime_df = load_chicago_crime_data()"
      ]
    },
    {
      "cell_type": "markdown",
      "source": [
        "Let's verify the loaded data count"
      ],
      "metadata": {
        "id": "t-PQEO3YGDRJ"
      }
    },
    {
      "cell_type": "code",
      "source": [
        "crime_df.count()"
      ],
      "metadata": {
        "colab": {
          "base_uri": "https://localhost:8080/"
        },
        "id": "-LM64WOhFurh",
        "outputId": "5270620c-75da-4e81-df26-9ec9d8c882dd"
      },
      "execution_count": 140,
      "outputs": [
        {
          "output_type": "execute_result",
          "data": {
            "text/plain": [
              "8187778"
            ]
          },
          "metadata": {},
          "execution_count": 140
        }
      ]
    },
    {
      "cell_type": "markdown",
      "metadata": {
        "id": "s2p8WHwp8lkx"
      },
      "source": [
        "### Data cleaning"
      ]
    },
    {
      "cell_type": "markdown",
      "metadata": {
        "id": "iVXCZtWk9VsG"
      },
      "source": [
        "Removing null values"
      ]
    },
    {
      "cell_type": "code",
      "execution_count": 141,
      "metadata": {
        "id": "pJgrvABp-0CL"
      },
      "outputs": [],
      "source": [
        "def print_null_report(df):\n",
        "    print(df.select([count(when(col(c).isNull(), c)).alias(c) for c in df.columns]).show())"
      ]
    },
    {
      "cell_type": "code",
      "execution_count": 142,
      "metadata": {
        "id": "laU4atMx9qj_",
        "colab": {
          "base_uri": "https://localhost:8080/"
        },
        "outputId": "a8b3d38b-4c26-40d3-98f4-ac84837f072e"
      },
      "outputs": [
        {
          "output_type": "stream",
          "name": "stdout",
          "text": [
            "+---+-----------+----+-----+----+------------+-----------+--------------------+------+--------+----+--------+------+--------------+--------+------------+------------+----+----------+--------+---------+--------+\n",
            "| id|case_number|date|block|iucr|primary_type|description|location_description|arrest|domestic|beat|district|  ward|community_area|fbi_code|x_coordinate|y_coordinate|year|updated_on|latitude|longitude|location|\n",
            "+---+-----------+----+-----+----+------------+-----------+--------------------+------+--------+----+--------+------+--------------+--------+------------+------------+----+----------+--------+---------+--------+\n",
            "|  0|          0|   0|    0|   0|           0|          0|               13677|     0|       0|   0|      47|614830|        613454|       0|       90056|       90056|   0|         0|   90056|    90056|   90056|\n",
            "+---+-----------+----+-----+----+------------+-----------+--------------------+------+--------+----+--------+------+--------------+--------+------------+------------+----+----------+--------+---------+--------+\n",
            "\n",
            "None\n"
          ]
        }
      ],
      "source": [
        "print_null_report(crime_df)"
      ]
    },
    {
      "cell_type": "code",
      "execution_count": 143,
      "metadata": {
        "id": "hA02ILEE-cMt"
      },
      "outputs": [],
      "source": [
        "crime_df = crime_df.na.drop(\"any\")"
      ]
    },
    {
      "cell_type": "code",
      "execution_count": 146,
      "metadata": {
        "id": "9tVPc_vE-y2E",
        "colab": {
          "base_uri": "https://localhost:8080/"
        },
        "outputId": "2875f411-f279-43b3-d591-9866b21ba37c"
      },
      "outputs": [
        {
          "output_type": "stream",
          "name": "stdout",
          "text": [
            "+---+-----------+----+-----+----+------------+-----------+--------------------+------+--------+----+--------+----+--------------+--------+------------+------------+----+----------+--------+---------+--------+\n",
            "| id|case_number|date|block|iucr|primary_type|description|location_description|arrest|domestic|beat|district|ward|community_area|fbi_code|x_coordinate|y_coordinate|year|updated_on|latitude|longitude|location|\n",
            "+---+-----------+----+-----+----+------------+-----------+--------------------+------+--------+----+--------+----+--------------+--------+------------+------------+----+----------+--------+---------+--------+\n",
            "|  0|          0|   0|    0|   0|           0|          0|                   0|     0|       0|   0|       0|   0|             0|       0|           0|           0|   0|         0|       0|        0|       0|\n",
            "+---+-----------+----+-----+----+------------+-----------+--------------------+------+--------+----+--------+----+--------------+--------+------------+------------+----+----------+--------+---------+--------+\n",
            "\n",
            "None\n"
          ]
        }
      ],
      "source": [
        "print_null_report(crime_df)"
      ]
    },
    {
      "cell_type": "markdown",
      "metadata": {
        "id": "NTIZUyyD8n8m"
      },
      "source": [
        "Converting columns to appropriate types\n",
        "\n",
        "Especially converting date column to timestamp"
      ]
    },
    {
      "cell_type": "code",
      "execution_count": 147,
      "metadata": {
        "id": "v6meWwEu8lAN"
      },
      "outputs": [],
      "source": [
        "crime_df = crime_df.withColumn(\"date\", to_timestamp(\"date\"))\n",
        "crime_df = crime_df.withColumn(\"updated_on\", to_timestamp(\"updated_on\"))\n",
        "crime_df = crime_df.withColumn(\"arrest\", col(\"arrest\").cast(BooleanType()))\n",
        "crime_df = crime_df.withColumn(\"domestic\", col(\"domestic\").cast(BooleanType()))\n",
        "crime_df = crime_df.withColumn(\"ward\", col(\"ward\").cast(IntegerType()))\n",
        "crime_df = crime_df.withColumn(\"community_area\", col(\"community_area\").cast(IntegerType()))\n",
        "crime_df = crime_df.withColumn(\"x_coordinate\", col(\"x_coordinate\").cast(DoubleType()))\n",
        "crime_df = crime_df.withColumn(\"y_coordinate\", col(\"y_coordinate\").cast(DoubleType()))\n",
        "crime_df = crime_df.withColumn(\"year\", col(\"year\").cast(IntegerType()))\n",
        "crime_df = crime_df.withColumn(\"latitude\", col(\"latitude\").cast(DoubleType()))\n",
        "crime_df = crime_df.withColumn(\"longitude\", col(\"longitude\").cast(DoubleType()))"
      ]
    },
    {
      "cell_type": "code",
      "execution_count": 148,
      "metadata": {
        "id": "J18efYit306x",
        "colab": {
          "base_uri": "https://localhost:8080/"
        },
        "outputId": "6f31ffb8-dda1-4ef8-bfa0-039d9560459c"
      },
      "outputs": [
        {
          "output_type": "stream",
          "name": "stdout",
          "text": [
            "+-------+-----------+-------------------+--------------------+----+--------------------+--------------------+--------------------+------+--------+----+--------+----+--------------+--------+------------+------------+----+-------------------+------------+-------------+--------------------+\n",
            "|     id|case_number|               date|               block|iucr|        primary_type|         description|location_description|arrest|domestic|beat|district|ward|community_area|fbi_code|x_coordinate|y_coordinate|year|         updated_on|    latitude|    longitude|            location|\n",
            "+-------+-----------+-------------------+--------------------+----+--------------------+--------------------+--------------------+------+--------+----+--------+----+--------------+--------+------------+------------+----+-------------------+------------+-------------+--------------------+\n",
            "|4215042|   HL525347|2002-06-01 00:00:00| 091XX S BUFFALO AVE|0840|               THEFT|FINANCIAL ID THEF...|           RESIDENCE| false|   false|0424|     004|  10|            46|      06|   1199633.0|   1844993.0|2002|2018-02-28 15:56:25|41.729458085|-87.544274901|\"{'latitude': '41...|\n",
            "|4059211|   HL407510|2002-12-30 12:00:00|  049XX S KARLOV AVE|0840|               THEFT|FINANCIAL ID THEF...|           RESIDENCE| false|   false|0815|     008|  14|            57|      06|   1149864.0|   1871543.0|2002|2018-02-28 15:56:25|41.803423031|-87.725906081|\"{'latitude': '41...|\n",
            "|4080582|   HL426092|2002-01-01 00:00:00|050XX W ROOSEVELT RD|1140|  DECEPTIVE PRACTICE|        EMBEZZLEMENT|COMMERCIAL / BUSI...|  true|   false|1533|     015|  24|            25|      12|   1142802.0|   1894225.0|2002|2018-02-28 15:56:25|41.865799781|-87.751242557|\"{'latitude': '41...|\n",
            "|4197402|   HL528920|2002-01-01 00:00:00|072XX S CALIFORNI...|1752|OFFENSE INVOLVING...|AGG CRIM SEX ABUS...|           RESIDENCE| false|   false|0831|     008|  18|            66|      20|   1158957.0|   1856609.0|2002|2018-02-28 15:56:25|41.762260854|-87.692965274|\"{'latitude': '41...|\n",
            "|4132864|   HL463605|2002-11-01 00:01:00|  036XX N PAULINA ST|0840|               THEFT|FINANCIAL ID THEF...|           RESIDENCE| false|   false|1923|     019|  47|             6|      06|   1164343.0|   1924266.0|2002|2018-02-28 15:56:25|41.947806356|-87.671312895|\"{'latitude': '41...|\n",
            "+-------+-----------+-------------------+--------------------+----+--------------------+--------------------+--------------------+------+--------+----+--------+----+--------------+--------+------------+------------+----+-------------------+------------+-------------+--------------------+\n",
            "only showing top 5 rows\n",
            "\n"
          ]
        }
      ],
      "source": [
        "crime_df.show(n=5)"
      ]
    },
    {
      "cell_type": "markdown",
      "metadata": {
        "id": "gOkr7d2E_LNm"
      },
      "source": [
        "Filtering data for last ten years"
      ]
    },
    {
      "cell_type": "code",
      "execution_count": 149,
      "metadata": {
        "id": "qYrkp51eoIZf"
      },
      "outputs": [],
      "source": [
        "crime_df_recent_ten_yrs = crime_df.filter(year(col(\"date\")) >= year(current_date()) - 10)"
      ]
    },
    {
      "cell_type": "markdown",
      "metadata": {
        "id": "7jkBbnhl_psn"
      },
      "source": [
        "Removing followin crime types\n",
        "\n",
        "- 'NON-CRIMINAL (SUBJECT SPECIFIED)'\n",
        "- 'OTHER OFFENSE'\n",
        "- 'STALKING'\n",
        "- 'NON - CRIMINAL'\n",
        "- 'ARSON'"
      ]
    },
    {
      "cell_type": "code",
      "execution_count": 150,
      "metadata": {
        "id": "QtOe5ThPDz2Z",
        "colab": {
          "base_uri": "https://localhost:8080/"
        },
        "outputId": "95cba8a3-7d53-4a67-cd75-ffe71a0281e0"
      },
      "outputs": [
        {
          "output_type": "stream",
          "name": "stdout",
          "text": [
            "+---------------------------------+\n",
            "|primary_type                     |\n",
            "+---------------------------------+\n",
            "|OFFENSE INVOLVING CHILDREN       |\n",
            "|CRIMINAL SEXUAL ASSAULT          |\n",
            "|STALKING                         |\n",
            "|PUBLIC PEACE VIOLATION           |\n",
            "|OBSCENITY                        |\n",
            "|NON-CRIMINAL (SUBJECT SPECIFIED) |\n",
            "|ARSON                            |\n",
            "|GAMBLING                         |\n",
            "|CRIMINAL TRESPASS                |\n",
            "|ASSAULT                          |\n",
            "|NON - CRIMINAL                   |\n",
            "|LIQUOR LAW VIOLATION             |\n",
            "|MOTOR VEHICLE THEFT              |\n",
            "|THEFT                            |\n",
            "|BATTERY                          |\n",
            "|ROBBERY                          |\n",
            "|HOMICIDE                         |\n",
            "|PUBLIC INDECENCY                 |\n",
            "|CRIM SEXUAL ASSAULT              |\n",
            "|HUMAN TRAFFICKING                |\n",
            "|INTIMIDATION                     |\n",
            "|PROSTITUTION                     |\n",
            "|DECEPTIVE PRACTICE               |\n",
            "|CONCEALED CARRY LICENSE VIOLATION|\n",
            "|SEX OFFENSE                      |\n",
            "|CRIMINAL DAMAGE                  |\n",
            "|NARCOTICS                        |\n",
            "|NON-CRIMINAL                     |\n",
            "|OTHER OFFENSE                    |\n",
            "|KIDNAPPING                       |\n",
            "|BURGLARY                         |\n",
            "|WEAPONS VIOLATION                |\n",
            "|OTHER NARCOTIC VIOLATION         |\n",
            "|INTERFERENCE WITH PUBLIC OFFICER |\n",
            "|RITUALISM                        |\n",
            "+---------------------------------+\n",
            "\n"
          ]
        }
      ],
      "source": [
        "crime_df_recent_ten_yrs.select(\"primary_type\").distinct().show(100, False)"
      ]
    },
    {
      "cell_type": "code",
      "execution_count": 151,
      "metadata": {
        "id": "NUkPgZa4_X4n"
      },
      "outputs": [],
      "source": [
        "excluded_crime_types = ['NON-CRIMINAL (SUBJECT SPECIFIED)', 'OTHER OFFENSE', 'STALKING', 'NON-CRIMINAL', 'NON - CRIMINAL', 'ARSON']\n",
        "crime_df_filtered = crime_df_recent_ten_yrs.filter(~col(\"primary_type\").isin(excluded_crime_types))"
      ]
    },
    {
      "cell_type": "code",
      "execution_count": 152,
      "metadata": {
        "id": "-JqwMN_v_Zmh",
        "colab": {
          "base_uri": "https://localhost:8080/"
        },
        "outputId": "d6ae6384-34b6-4c5d-d396-4e05bd6edc08"
      },
      "outputs": [
        {
          "output_type": "stream",
          "name": "stdout",
          "text": [
            "+---------------------------------+\n",
            "|primary_type                     |\n",
            "+---------------------------------+\n",
            "|OFFENSE INVOLVING CHILDREN       |\n",
            "|CRIMINAL SEXUAL ASSAULT          |\n",
            "|PUBLIC PEACE VIOLATION           |\n",
            "|OBSCENITY                        |\n",
            "|GAMBLING                         |\n",
            "|CRIMINAL TRESPASS                |\n",
            "|ASSAULT                          |\n",
            "|NON - CRIMINAL                   |\n",
            "|LIQUOR LAW VIOLATION             |\n",
            "|MOTOR VEHICLE THEFT              |\n",
            "|THEFT                            |\n",
            "|BATTERY                          |\n",
            "|ROBBERY                          |\n",
            "|HOMICIDE                         |\n",
            "|PUBLIC INDECENCY                 |\n",
            "|CRIM SEXUAL ASSAULT              |\n",
            "|HUMAN TRAFFICKING                |\n",
            "|INTIMIDATION                     |\n",
            "|PROSTITUTION                     |\n",
            "|DECEPTIVE PRACTICE               |\n",
            "|CONCEALED CARRY LICENSE VIOLATION|\n",
            "|SEX OFFENSE                      |\n",
            "|CRIMINAL DAMAGE                  |\n",
            "|NARCOTICS                        |\n",
            "|KIDNAPPING                       |\n",
            "|BURGLARY                         |\n",
            "|WEAPONS VIOLATION                |\n",
            "|OTHER NARCOTIC VIOLATION         |\n",
            "|INTERFERENCE WITH PUBLIC OFFICER |\n",
            "|RITUALISM                        |\n",
            "+---------------------------------+\n",
            "\n"
          ]
        }
      ],
      "source": [
        "crime_df_filtered.select(\"primary_type\").distinct().show(100, False)"
      ]
    },
    {
      "cell_type": "markdown",
      "metadata": {
        "id": "IuZ6n1NvAtIh"
      },
      "source": [
        "Merging similar crime types into one crime"
      ]
    },
    {
      "cell_type": "code",
      "execution_count": 153,
      "metadata": {
        "id": "Dq_OUFRwBGBD",
        "colab": {
          "base_uri": "https://localhost:8080/"
        },
        "outputId": "f5cfef84-0103-4230-d7be-fff5cdd293e7"
      },
      "outputs": [
        {
          "output_type": "stream",
          "name": "stdout",
          "text": [
            "+--------------------------+\n",
            "|primary_type              |\n",
            "+--------------------------+\n",
            "|SEXUAL CRIME              |\n",
            "|OFFENSE INVOLVING CHILDREN|\n",
            "|PUBLIC ORDER CRIME        |\n",
            "|CRIMINAL TRESPASS         |\n",
            "|ASSAULT                   |\n",
            "|NON - CRIMINAL            |\n",
            "|DRUG  CRIME               |\n",
            "|BATTERY                   |\n",
            "|THEFT AND FRAUD           |\n",
            "|ROBBERY                   |\n",
            "|HOMICIDE                  |\n",
            "|PUBLIC INDECENCY          |\n",
            "|CRIM SEXUAL ASSAULT       |\n",
            "|HUMAN TRAFFICKING         |\n",
            "|WEAPONS AND INTIMIDATION  |\n",
            "|CRIMINAL DAMAGE           |\n",
            "|KIDNAPPING                |\n",
            "|BURGLARY                  |\n",
            "|RITUALISM                 |\n",
            "+--------------------------+\n",
            "\n"
          ]
        }
      ],
      "source": [
        "similar_crime_types = {\n",
        "    \"SEXUAL CRIME\" : ['CRIMINAL SEXUAL ASSAULT', 'SEX OFFENSE', 'PROSTITUTION'],\n",
        "    \"DRUG  CRIME\" : ['NARCOTICS', 'OTHER NARCOTIC VIOLATION'],\n",
        "    \"THEFT AND FRAUD\" : [\"MOTOR VEHICLE THEFT\", \"THEFT\", \"DECEPTIVE PRACTICE\"],\n",
        "    \"WEAPONS AND INTIMIDATION\" : [\"INTIMIDATION\", \"CONCEALED CARRY LICENSE VIOLATION\", \"WEAPONS VIOLATION\", \"INTERFERENCE WITH PUBLIC OFFICER\"],\n",
        "    \"PUBLIC ORDER CRIME\" : [\"PUBLIC PEACE VIOLATION\", \"OBSCENITY\", \"GAMBLING\", \"LIQUOR LAW VIOLATION\"]\n",
        "}\n",
        "\n",
        "for new_crime_type, old_crime_types in similar_crime_types.items():\n",
        "    crime_df_filtered = crime_df_filtered.withColumn(\"primary_type\", when(col(\"primary_type\").isin(old_crime_types), new_crime_type).otherwise(col(\"primary_type\")))\n",
        "\n",
        "crime_df_filtered.select(\"primary_type\").distinct().show(100, False)"
      ]
    },
    {
      "cell_type": "markdown",
      "metadata": {
        "id": "Axa5x4qyEtEH"
      },
      "source": [
        "### Data analysis"
      ]
    },
    {
      "cell_type": "markdown",
      "source": [
        "#### Year-wise trend of the crime"
      ],
      "metadata": {
        "id": "JGgYdejfIL9T"
      }
    },
    {
      "cell_type": "code",
      "execution_count": 154,
      "metadata": {
        "id": "gGdG89yYIycX"
      },
      "outputs": [],
      "source": [
        "from matplotlib import pyplot as plt"
      ]
    },
    {
      "cell_type": "code",
      "execution_count": 155,
      "metadata": {
        "id": "zs77IhxJADdD",
        "colab": {
          "base_uri": "https://localhost:8080/"
        },
        "outputId": "9dbf4a35-a30a-42f9-9328-e33b0cfdb646"
      },
      "outputs": [
        {
          "output_type": "stream",
          "name": "stdout",
          "text": [
            "+----+------+\n",
            "|Year| count|\n",
            "+----+------+\n",
            "|2014|256121|\n",
            "|2015|239903|\n",
            "|2016|248555|\n",
            "|2017|246533|\n",
            "|2018|245354|\n",
            "|2019|240851|\n",
            "|2020|193869|\n",
            "|2021|187548|\n",
            "|2022|219012|\n",
            "|2023|243892|\n",
            "|2024|194139|\n",
            "+----+------+\n",
            "\n"
          ]
        }
      ],
      "source": [
        "year_trend = crime_df_filtered.groupBy(\"Year\").count().orderBy(\"Year\")\n",
        "year_trend.show()"
      ]
    },
    {
      "cell_type": "markdown",
      "source": [
        "##### Plotting line plot for a better view of trend"
      ],
      "metadata": {
        "id": "tWIRkTGnIBNg"
      }
    },
    {
      "cell_type": "code",
      "execution_count": 156,
      "metadata": {
        "id": "AI6YtKczIVWJ",
        "colab": {
          "base_uri": "https://localhost:8080/",
          "height": 487
        },
        "outputId": "3e52baa2-1a97-440d-fc9b-0d02e7c26168"
      },
      "outputs": [
        {
          "output_type": "display_data",
          "data": {
            "text/plain": [
              "<Figure size 1000x500 with 1 Axes>"
            ],
            "image/png": "[encoded data removed]"
          },
          "metadata": {}
        }
      ],
      "source": [
        "plt.figure(figsize=(10, 5))\n",
        "year_trend_df = year_trend.toPandas()\n",
        "plt.plot(year_trend_df['Year'], year_trend_df['count'])\n",
        "plt.xlabel(\"Year\")\n",
        "plt.ylabel(\"Number of Crimes\")\n",
        "plt.title(\"Year-wise Trend of Crimes\")\n",
        "plt.show()"
      ]
    },
    {
      "cell_type": "markdown",
      "metadata": {
        "id": "Hne-_5S8LC8C"
      },
      "source": [
        "#### Let's find which hour of the day crime is highest"
      ]
    },
    {
      "cell_type": "code",
      "execution_count": 157,
      "metadata": {
        "id": "8vqfP1JnE0wb",
        "colab": {
          "base_uri": "https://localhost:8080/"
        },
        "outputId": "74d4e273-cec5-440e-d49e-c2ed57ac4b04"
      },
      "outputs": [
        {
          "output_type": "stream",
          "name": "stdout",
          "text": [
            "+----+------+\n",
            "|Hour| count|\n",
            "+----+------+\n",
            "|  12|144989|\n",
            "+----+------+\n",
            "only showing top 1 row\n",
            "\n",
            "None\n",
            "Highest crime hour is : 12\n"
          ]
        }
      ],
      "source": [
        "hourly_crime = crime_df_filtered.withColumn(\"Hour\", hour(\"Date\")).groupBy(\"Hour\").count().orderBy(desc(\"count\"))\n",
        "print(hourly_crime.show(1))\n",
        "print(f\"Highest crime hour is : {hourly_crime.first()['Hour']}\")"
      ]
    },
    {
      "cell_type": "markdown",
      "source": [
        "#### Lets plot top ten crimes into a bar chart"
      ],
      "metadata": {
        "id": "BPgyv3CuH87a"
      }
    },
    {
      "cell_type": "code",
      "execution_count": 158,
      "metadata": {
        "id": "1AcQl-fKLNsQ",
        "colab": {
          "base_uri": "https://localhost:8080/"
        },
        "outputId": "faa3cb3e-3cb8-4164-cce5-c51e35e8d4de"
      },
      "outputs": [
        {
          "output_type": "stream",
          "name": "stdout",
          "text": [
            "+--------------------+------+\n",
            "|        primary_type| count|\n",
            "+--------------------+------+\n",
            "|     THEFT AND FRAUD|928099|\n",
            "|             BATTERY|500988|\n",
            "|     CRIMINAL DAMAGE|300406|\n",
            "|             ASSAULT|213884|\n",
            "|         DRUG  CRIME|128392|\n",
            "|            BURGLARY|113001|\n",
            "|             ROBBERY|104077|\n",
            "|WEAPONS AND INTIM...| 80922|\n",
            "|   CRIMINAL TRESPASS| 61075|\n",
            "|        SEXUAL CRIME| 26553|\n",
            "+--------------------+------+\n",
            "\n"
          ]
        }
      ],
      "source": [
        "crime_df_top_ten = crime_df_filtered.groupBy(\"primary_type\").count().orderBy(desc(\"count\")).limit(10)\n",
        "crime_df_top_ten.show()"
      ]
    },
    {
      "cell_type": "code",
      "execution_count": 159,
      "metadata": {
        "id": "GnJtQ48VL_Q9",
        "colab": {
          "base_uri": "https://localhost:8080/",
          "height": 569
        },
        "outputId": "e960c7de-91ca-42b0-b916-72fe2881e1a2"
      },
      "outputs": [
        {
          "output_type": "display_data",
          "data": {
            "text/plain": [
              "<Figure size 1200x600 with 1 Axes>"
            ],
            "image/png": "[encoded data removed]"
          },
          "metadata": {}
        }
      ],
      "source": [
        "crime_df_top_ten_pd  = crime_df_top_ten.toPandas()\n",
        "plt.figure(figsize=(12, 6))\n",
        "plt.bar(crime_df_top_ten_pd[\"primary_type\"], crime_df_top_ten_pd[\"count\"])\n",
        "plt.title(\"Top 10 Crimes in Chicago\")\n",
        "plt.xlabel(\"Crime Type\")\n",
        "plt.ylabel(\"Count\")\n",
        "plt.xticks(rotation=45, ha='right')\n",
        "plt.tight_layout()\n",
        "plt.show()"
      ]
    },
    {
      "cell_type": "code",
      "source": [],
      "metadata": {
        "id": "EugaCsj3fIJx"
      },
      "execution_count": null,
      "outputs": []
    }
  ],
  "metadata": {
    "colab": {
      "provenance": [],
      "authorship_tag": "ABX9TyOeDJ3rj9192RtLUp0kmEqQ",
      "include_colab_link": true
    },
    "kernelspec": {
      "display_name": "Python 3",
      "name": "python3"
    },
    "language_info": {
      "name": "python"
    }
  },
  "nbformat": 4,
  "nbformat_minor": 0
}