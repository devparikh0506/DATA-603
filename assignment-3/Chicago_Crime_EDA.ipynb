{
  "nbformat": 4,
  "nbformat_minor": 0,
  "metadata": {
    "colab": {
      "provenance": [],
      "authorship_tag": "ABX9TyOPcbB1qjOGMxR9jT6ijWRw",
      "include_colab_link": true
    },
    "kernelspec": {
      "name": "python3",
      "display_name": "Python 3"
    },
    "language_info": {
      "name": "python"
    }
  },
  "cells": [
    {
      "cell_type": "markdown",
      "metadata": {
        "id": "view-in-github",
        "colab_type": "text"
      },
      "source": [
        "<a href=\"https://colab.research.google.com/github/devparikh0506/DATA-603/blob/main/assignment-3/Chicago_Crime_EDA.ipynb\" target=\"_parent\"><img src=\"https://colab.research.google.com/assets/colab-badge.svg\" alt=\"Open In Colab\"/></a>"
      ]
    },
    {
      "cell_type": "code",
      "execution_count": 1,
      "metadata": {
        "colab": {
          "base_uri": "https://localhost:8080/"
        },
        "id": "auoBTYB1jqTf",
        "outputId": "6a5396f6-69ca-42a2-e73a-dc3e7c6f2d04"
      },
      "outputs": [
        {
          "output_type": "stream",
          "name": "stdout",
          "text": [
            "Requirement already satisfied: pyspark in /usr/local/lib/python3.10/dist-packages (3.5.3)\n",
            "Requirement already satisfied: py4j==0.10.9.7 in /usr/local/lib/python3.10/dist-packages (from pyspark) (0.10.9.7)\n"
          ]
        }
      ],
      "source": [
        "!pip install pyspark"
      ]
    },
    {
      "cell_type": "code",
      "source": [
        "from pyspark.sql import SparkSession\n",
        "from pyspark import SparkContext\n",
        "from pyspark.sql.functions import *\n",
        "from pyspark.sql.types import StructType, StructField, StringType, IntegerType, DoubleType, TimestampType, BooleanType"
      ],
      "metadata": {
        "id": "Bwt7CSRgjuev"
      },
      "execution_count": 2,
      "outputs": []
    },
    {
      "cell_type": "markdown",
      "source": [
        "Creating spark session"
      ],
      "metadata": {
        "id": "SeaObe8cj9CQ"
      }
    },
    {
      "cell_type": "code",
      "source": [
        "spark_session = SparkSession.builder.appName(\"ChicagoCrimeEDA\").getOrCreate()\n",
        "sc = spark_session.sparkContext"
      ],
      "metadata": {
        "id": "kkkhlRQfj0Cs"
      },
      "execution_count": 3,
      "outputs": []
    },
    {
      "cell_type": "markdown",
      "source": [
        "Defining schema"
      ],
      "metadata": {
        "id": "K6m44Pgrj-uH"
      }
    },
    {
      "cell_type": "code",
      "source": [
        "# For this data I'll define string types for numeric columns as well.\n",
        "# Because the API i am using to get the JSON data is giving string values for all numeric columns.\n",
        "# Later I will convert necessary columns to appropriate types\n",
        "\n",
        "schema = StructType([\n",
        "    StructField(\"id\", StringType(), True),\n",
        "    StructField(\"case_number\", StringType(), True),\n",
        "    StructField(\"date\", StringType(), True),\n",
        "    StructField(\"block\", StringType(), True),\n",
        "    StructField(\"iucr\", StringType(), True),\n",
        "    StructField(\"primary_type\", StringType(), True),\n",
        "    StructField(\"description\", StringType(), True),\n",
        "    StructField(\"location_description\", StringType(), True),\n",
        "    StructField(\"arrest\", BooleanType(), True),\n",
        "    StructField(\"domestic\", BooleanType(), True),\n",
        "    StructField(\"beat\", StringType(), True),\n",
        "    StructField(\"district\", StringType(), True),\n",
        "    StructField(\"ward\", StringType(), True),\n",
        "    StructField(\"community_area\", StringType(), True),\n",
        "    StructField(\"fbi_code\", StringType(), True),\n",
        "    StructField(\"x_coordinate\", StringType(), True),\n",
        "    StructField(\"y_coordinate\", StringType(), True),\n",
        "    StructField(\"year\", StringType(), True),\n",
        "    StructField(\"updated_on\", StringType(), True),\n",
        "    StructField(\"latitude\", StringType(), True),\n",
        "    StructField(\"longitude\", StringType(), True),\n",
        "    StructField(\"location\", StringType(), True)\n",
        "])"
      ],
      "metadata": {
        "id": "Xq5HxywOj6CK"
      },
      "execution_count": 4,
      "outputs": []
    },
    {
      "cell_type": "markdown",
      "source": [
        "Loading data"
      ],
      "metadata": {
        "id": "WuNd73LSkk9J"
      }
    },
    {
      "cell_type": "code",
      "source": [
        "!pip install sodapy"
      ],
      "metadata": {
        "colab": {
          "base_uri": "https://localhost:8080/"
        },
        "id": "qQpYqRl0rdwA",
        "outputId": "f403be84-bd56-483e-d9f1-10402071c478"
      },
      "execution_count": 5,
      "outputs": [
        {
          "output_type": "stream",
          "name": "stdout",
          "text": [
            "Requirement already satisfied: sodapy in /usr/local/lib/python3.10/dist-packages (2.2.0)\n",
            "Requirement already satisfied: requests>=2.28.1 in /usr/local/lib/python3.10/dist-packages (from sodapy) (2.32.3)\n",
            "Requirement already satisfied: charset-normalizer<4,>=2 in /usr/local/lib/python3.10/dist-packages (from requests>=2.28.1->sodapy) (3.4.0)\n",
            "Requirement already satisfied: idna<4,>=2.5 in /usr/local/lib/python3.10/dist-packages (from requests>=2.28.1->sodapy) (3.10)\n",
            "Requirement already satisfied: urllib3<3,>=1.21.1 in /usr/local/lib/python3.10/dist-packages (from requests>=2.28.1->sodapy) (2.2.3)\n",
            "Requirement already satisfied: certifi>=2017.4.17 in /usr/local/lib/python3.10/dist-packages (from requests>=2.28.1->sodapy) (2024.8.30)\n"
          ]
        }
      ]
    },
    {
      "cell_type": "code",
      "source": [
        "from sodapy import Socrata\n",
        "import datetime"
      ],
      "metadata": {
        "id": "DfUkE4LPvR2-"
      },
      "execution_count": 6,
      "outputs": []
    },
    {
      "cell_type": "code",
      "source": [
        "def load_chicago_crime_data_for_year(year : int , client , offset=0, limit=500_000):\n",
        "  \"\"\"\n",
        "  Loads Chicago crime data for a given year.\n",
        "  \"\"\"\n",
        "  try:\n",
        "    results = client.get(\"ijzp-q8t2\", limit=limit, offset=offset, year=year)\n",
        "    if not (len(results) < limit):\n",
        "      results += load_chicago_crime_data_for_year(year, client, offset=offset + limit, limit=limit)\n",
        "    return results\n",
        "  except Exception as e:\n",
        "    print(f\"Error loading data for year({year}):\\n{e}\")\n",
        "    return []\n",
        "\n",
        "def load_chicago_crime_data(limit=None):\n",
        "    client = Socrata(\"data.cityofchicago.org\", None)\n",
        "    years = range(datetime.datetime.now().year, 2000, -1)\n",
        "    loaded_data_count=0\n",
        "    #  creating an empty dataframe\n",
        "    emp_RDD = sc.emptyRDD()\n",
        "    df = spark_session.createDataFrame(data = emp_RDD, schema = schema)\n",
        "    for year in years:\n",
        "        print(f\"Loading data for year : {year}\")\n",
        "        data = load_chicago_crime_data_for_year(year, client)\n",
        "        temp_df = spark_session.createDataFrame(data, schema)\n",
        "        df = df.union(temp_df)\n",
        "        temp_df_count = len(data)\n",
        "        loaded_data_count += temp_df_count\n",
        "        if limit and loaded_data_count >= limit:\n",
        "            break\n",
        "        print(f\"Successfully loaded data for year({year}) =========> Data size : {temp_df_count}(rows)\")\n",
        "        temp_df.unpersist()\n",
        "\n",
        "    print(f\"Successfully loaded all data\")\n",
        "    return df\n",
        "\n",
        "crime_df = load_chicago_crime_data()"
      ],
      "metadata": {
        "colab": {
          "base_uri": "https://localhost:8080/"
        },
        "id": "HUwNvU9_uzzu",
        "outputId": "32ac6004-655c-450b-fd9b-6aaca3f7ae7d"
      },
      "execution_count": 7,
      "outputs": [
        {
          "output_type": "stream",
          "name": "stderr",
          "text": [
            "WARNING:root:Requests made without an app_token will be subject to strict throttling limits.\n"
          ]
        },
        {
          "output_type": "stream",
          "name": "stdout",
          "text": [
            "Loading data for year : 2024\n",
            "Successfully loaded data for year(2024) =========> Data size : 209572(rows)\n",
            "Loading data for year : 2023\n",
            "Successfully loaded data for year(2023) =========> Data size : 262599(rows)\n",
            "Loading data for year : 2022\n",
            "Successfully loaded all data\n"
          ]
        }
      ]
    },
    {
      "cell_type": "markdown",
      "source": [
        "### Data cleaning"
      ],
      "metadata": {
        "id": "s2p8WHwp8lkx"
      }
    },
    {
      "cell_type": "markdown",
      "source": [
        "Removing null values"
      ],
      "metadata": {
        "id": "iVXCZtWk9VsG"
      }
    },
    {
      "cell_type": "code",
      "source": [
        "def print_null_report(df):\n",
        "    print(df.select([count(when(col(c).isNull(), c)).alias(c) for c in df.columns]).show())"
      ],
      "metadata": {
        "id": "pJgrvABp-0CL"
      },
      "execution_count": 8,
      "outputs": []
    },
    {
      "cell_type": "code",
      "source": [
        "print_null_report(crime_df)"
      ],
      "metadata": {
        "colab": {
          "base_uri": "https://localhost:8080/"
        },
        "id": "laU4atMx9qj_",
        "outputId": "677c4bcf-515c-4a8e-e02e-f0feaeb0b063"
      },
      "execution_count": 9,
      "outputs": [
        {
          "output_type": "stream",
          "name": "stdout",
          "text": [
            "+---+-----------+----+-----+----+------------+-----------+--------------------+------+--------+----+--------+----+--------------+--------+------------+------------+----+----------+--------+---------+--------+\n",
            "| id|case_number|date|block|iucr|primary_type|description|location_description|arrest|domestic|beat|district|ward|community_area|fbi_code|x_coordinate|y_coordinate|year|updated_on|latitude|longitude|location|\n",
            "+---+-----------+----+-----+----+------------+-----------+--------------------+------+--------+----+--------+----+--------------+--------+------------+------------+----+----------+--------+---------+--------+\n",
            "|  0|          0|   0|    0|   0|           0|          0|                3183|     0|       0|   0|       0|  13|             0|       0|        5432|        5432|   0|         0|    5432|     5432|    5432|\n",
            "+---+-----------+----+-----+----+------------+-----------+--------------------+------+--------+----+--------+----+--------------+--------+------------+------------+----+----------+--------+---------+--------+\n",
            "\n",
            "None\n"
          ]
        }
      ]
    },
    {
      "cell_type": "code",
      "source": [
        "crime_df = crime_df.na.drop(\"any\")"
      ],
      "metadata": {
        "id": "hA02ILEE-cMt"
      },
      "execution_count": 10,
      "outputs": []
    },
    {
      "cell_type": "code",
      "source": [
        "crime_df.select([count(when(col(c).isNull(), c)).alias(c) for c in crime_df.columns]).show()"
      ],
      "metadata": {
        "colab": {
          "base_uri": "https://localhost:8080/"
        },
        "id": "9tVPc_vE-y2E",
        "outputId": "3dc606e0-57ac-49c2-c6cb-09c4cb33ba99"
      },
      "execution_count": 11,
      "outputs": [
        {
          "output_type": "stream",
          "name": "stdout",
          "text": [
            "+---+-----------+----+-----+----+------------+-----------+--------------------+------+--------+----+--------+----+--------------+--------+------------+------------+----+----------+--------+---------+--------+\n",
            "| id|case_number|date|block|iucr|primary_type|description|location_description|arrest|domestic|beat|district|ward|community_area|fbi_code|x_coordinate|y_coordinate|year|updated_on|latitude|longitude|location|\n",
            "+---+-----------+----+-----+----+------------+-----------+--------------------+------+--------+----+--------+----+--------------+--------+------------+------------+----+----------+--------+---------+--------+\n",
            "|  0|          0|   0|    0|   0|           0|          0|                   0|     0|       0|   0|       0|   0|             0|       0|           0|           0|   0|         0|       0|        0|       0|\n",
            "+---+-----------+----+-----+----+------------+-----------+--------------------+------+--------+----+--------+----+--------------+--------+------------+------------+----+----------+--------+---------+--------+\n",
            "\n"
          ]
        }
      ]
    },
    {
      "cell_type": "markdown",
      "source": [
        "Converting columns to appropriate types\n",
        "\n",
        "Especially converting date column to timestamp"
      ],
      "metadata": {
        "id": "NTIZUyyD8n8m"
      }
    },
    {
      "cell_type": "code",
      "source": [
        "crime_df = crime_df.withColumn(\"date\", to_timestamp(\"date\"))\n",
        "crime_df = crime_df.withColumn(\"updated_on\", to_timestamp(\"updated_on\"))\n",
        "crime_df = crime_df.withColumn(\"arrest\", col(\"arrest\").cast(BooleanType()))\n",
        "crime_df = crime_df.withColumn(\"domestic\", col(\"domestic\").cast(BooleanType()))\n",
        "crime_df = crime_df.withColumn(\"ward\", col(\"ward\").cast(IntegerType()))\n",
        "crime_df = crime_df.withColumn(\"community_area\", col(\"community_area\").cast(IntegerType()))\n",
        "crime_df = crime_df.withColumn(\"x_coordinate\", col(\"x_coordinate\").cast(DoubleType()))\n",
        "crime_df = crime_df.withColumn(\"y_coordinate\", col(\"y_coordinate\").cast(DoubleType()))\n",
        "crime_df = crime_df.withColumn(\"year\", col(\"year\").cast(IntegerType()))\n",
        "crime_df = crime_df.withColumn(\"latitude\", col(\"latitude\").cast(DoubleType()))\n",
        "crime_df = crime_df.withColumn(\"longitude\", col(\"longitude\").cast(DoubleType()))"
      ],
      "metadata": {
        "id": "v6meWwEu8lAN"
      },
      "execution_count": 12,
      "outputs": []
    },
    {
      "cell_type": "code",
      "source": [
        "crime_df.show(n=5)"
      ],
      "metadata": {
        "colab": {
          "base_uri": "https://localhost:8080/"
        },
        "id": "J18efYit306x",
        "outputId": "b11ddb9c-3fd5-4683-adcc-6585f345bf59"
      },
      "execution_count": 13,
      "outputs": [
        {
          "output_type": "stream",
          "name": "stdout",
          "text": [
            "+--------+-----------+-------------------+--------------------+----+------------------+--------------------+--------------------+------+--------+----+--------+----+--------------+--------+------------+------------+----+-------------------+------------+-------------+--------------------+\n",
            "|      id|case_number|               date|               block|iucr|      primary_type|         description|location_description|arrest|domestic|beat|district|ward|community_area|fbi_code|x_coordinate|y_coordinate|year|         updated_on|    latitude|    longitude|            location|\n",
            "+--------+-----------+-------------------+--------------------+----+------------------+--------------------+--------------------+------+--------+----+--------+----+--------------+--------+------------+------------+----+-------------------+------------+-------------+--------------------+\n",
            "|13582916|   JH406913|2024-07-01 00:00:00|    102XX W ZEMKE RD|1206|DECEPTIVE PRACTICE|THEFT BY LESSEE, ...|AIRPORT EXTERIOR ...| false|   false|1654|     016|  41|            76|      11|   1106955.0|   1941060.0|2024|2024-09-03 15:41:00|41.994913946|-87.881937669|{human_address={\"...|\n",
            "|   28339|   JH394658|2024-08-25 20:21:00|     033XX W OHIO ST|0110|          HOMICIDE| FIRST DEGREE MURDER|              STREET| false|   false|1121|     011|  27|            23|     01A|   1153830.0|   1903796.0|2024|2024-09-02 15:41:30|41.891851273|-87.710502796|{human_address={\"...|\n",
            "|13617993|   JH453090|2024-04-01 00:00:00|  060XX S ALBANY AVE|0486|           BATTERY|DOMESTIC BATTERY ...|           APARTMENT| false|    true|0823|     008|  14|            66|     08B|   1156750.0|   1864458.0|2024|2024-10-04 15:40:30|41.783844485|-87.700842728|{human_address={\"...|\n",
            "|13572877|   JH398665|2024-08-23 06:00:00|079XX S MARQUETTE...|0498|           BATTERY|AGG. DOMESTIC BAT...|           APARTMENT|  true|    true|0422|     004|   7|            46|     04B|   1195557.0|   1852855.0|2024|2024-09-02 15:40:51| 41.75113362|-87.558946894|{human_address={\"...|\n",
            "|13574250|   JH400507|2024-08-24 15:59:00| 046XX S DREXEL BLVD|0498|           BATTERY|AGG. DOMESTIC BAT...|           APARTMENT| false|    true|0222|     002|   4|            39|     04B|   1183103.0|   1874341.0|2024|2024-09-02 15:40:51|41.810391682| -87.60391608|{human_address={\"...|\n",
            "+--------+-----------+-------------------+--------------------+----+------------------+--------------------+--------------------+------+--------+----+--------+----+--------------+--------+------------+------------+----+-------------------+------------+-------------+--------------------+\n",
            "only showing top 5 rows\n",
            "\n"
          ]
        }
      ]
    },
    {
      "cell_type": "markdown",
      "source": [
        "Filtering data for last ten years"
      ],
      "metadata": {
        "id": "gOkr7d2E_LNm"
      }
    },
    {
      "cell_type": "code",
      "source": [
        "crime_df_recent_ten_yrs = crime_df.filter(year(col(\"date\")) >= year(current_date()) - 10)"
      ],
      "metadata": {
        "id": "qYrkp51eoIZf"
      },
      "execution_count": 14,
      "outputs": []
    },
    {
      "cell_type": "markdown",
      "source": [
        "Removing followin crime types\n",
        "\n",
        "- 'NON-CRIMINAL (SUBJECT SPECIFIED)'\n",
        "- 'OTHER OFFENSE'\n",
        "- 'STALKING'\n",
        "- 'NON - CRIMINAL'\n",
        "- 'ARSON'"
      ],
      "metadata": {
        "id": "7jkBbnhl_psn"
      }
    },
    {
      "cell_type": "code",
      "source": [
        "crime_df_recent_ten_yrs.select(\"primary_type\").distinct().show(100, False)"
      ],
      "metadata": {
        "colab": {
          "base_uri": "https://localhost:8080/"
        },
        "id": "QtOe5ThPDz2Z",
        "outputId": "d3d85c73-d624-48d8-aa31-cb08f931bc81"
      },
      "execution_count": 15,
      "outputs": [
        {
          "output_type": "stream",
          "name": "stdout",
          "text": [
            "+---------------------------------+\n",
            "|primary_type                     |\n",
            "+---------------------------------+\n",
            "|OFFENSE INVOLVING CHILDREN       |\n",
            "|CRIMINAL SEXUAL ASSAULT          |\n",
            "|STALKING                         |\n",
            "|PUBLIC PEACE VIOLATION           |\n",
            "|OBSCENITY                        |\n",
            "|ARSON                            |\n",
            "|GAMBLING                         |\n",
            "|CRIMINAL TRESPASS                |\n",
            "|ASSAULT                          |\n",
            "|LIQUOR LAW VIOLATION             |\n",
            "|MOTOR VEHICLE THEFT              |\n",
            "|THEFT                            |\n",
            "|BATTERY                          |\n",
            "|ROBBERY                          |\n",
            "|HOMICIDE                         |\n",
            "|PUBLIC INDECENCY                 |\n",
            "|HUMAN TRAFFICKING                |\n",
            "|INTIMIDATION                     |\n",
            "|PROSTITUTION                     |\n",
            "|DECEPTIVE PRACTICE               |\n",
            "|CONCEALED CARRY LICENSE VIOLATION|\n",
            "|SEX OFFENSE                      |\n",
            "|CRIMINAL DAMAGE                  |\n",
            "|NARCOTICS                        |\n",
            "|NON-CRIMINAL                     |\n",
            "|OTHER OFFENSE                    |\n",
            "|KIDNAPPING                       |\n",
            "|BURGLARY                         |\n",
            "|WEAPONS VIOLATION                |\n",
            "|OTHER NARCOTIC VIOLATION         |\n",
            "|INTERFERENCE WITH PUBLIC OFFICER |\n",
            "+---------------------------------+\n",
            "\n"
          ]
        }
      ]
    },
    {
      "cell_type": "code",
      "source": [
        "excluded_crime_types = ['NON-CRIMINAL (SUBJECT SPECIFIED)', 'OTHER OFFENSE', 'STALKING', 'NON-CRIMINAL', 'ARSON']\n",
        "crime_df_filtered = crime_df_recent_ten_yrs.filter(~col(\"primary_type\").isin(excluded_crime_types))"
      ],
      "metadata": {
        "id": "NUkPgZa4_X4n"
      },
      "execution_count": 16,
      "outputs": []
    },
    {
      "cell_type": "code",
      "source": [
        "crime_df_filtered.select(\"primary_type\").distinct().show(100, False)"
      ],
      "metadata": {
        "colab": {
          "base_uri": "https://localhost:8080/"
        },
        "id": "-JqwMN_v_Zmh",
        "outputId": "ccb85d8b-cb60-4a22-e7d7-2f9826077334"
      },
      "execution_count": 17,
      "outputs": [
        {
          "output_type": "stream",
          "name": "stdout",
          "text": [
            "+---------------------------------+\n",
            "|primary_type                     |\n",
            "+---------------------------------+\n",
            "|OFFENSE INVOLVING CHILDREN       |\n",
            "|CRIMINAL SEXUAL ASSAULT          |\n",
            "|PUBLIC PEACE VIOLATION           |\n",
            "|OBSCENITY                        |\n",
            "|GAMBLING                         |\n",
            "|CRIMINAL TRESPASS                |\n",
            "|ASSAULT                          |\n",
            "|LIQUOR LAW VIOLATION             |\n",
            "|MOTOR VEHICLE THEFT              |\n",
            "|THEFT                            |\n",
            "|BATTERY                          |\n",
            "|ROBBERY                          |\n",
            "|HOMICIDE                         |\n",
            "|PUBLIC INDECENCY                 |\n",
            "|HUMAN TRAFFICKING                |\n",
            "|INTIMIDATION                     |\n",
            "|PROSTITUTION                     |\n",
            "|DECEPTIVE PRACTICE               |\n",
            "|CONCEALED CARRY LICENSE VIOLATION|\n",
            "|SEX OFFENSE                      |\n",
            "|CRIMINAL DAMAGE                  |\n",
            "|NARCOTICS                        |\n",
            "|KIDNAPPING                       |\n",
            "|BURGLARY                         |\n",
            "|WEAPONS VIOLATION                |\n",
            "|OTHER NARCOTIC VIOLATION         |\n",
            "|INTERFERENCE WITH PUBLIC OFFICER |\n",
            "+---------------------------------+\n",
            "\n"
          ]
        }
      ]
    },
    {
      "cell_type": "markdown",
      "source": [
        "Merging similar crime types into one crime"
      ],
      "metadata": {
        "id": "IuZ6n1NvAtIh"
      }
    },
    {
      "cell_type": "code",
      "source": [
        "similar_crime_types = {\n",
        "    \"SEXUAL CRIME\" : ['CRIMINAL SEXUAL ASSAULT', 'SEX OFFENSE', 'PROSTITUTION'],\n",
        "    \"DRUG  CRIME\" : ['NARCOTICS', 'OTHER NARCOTIC VIOLATION'],\n",
        "    \"THEFT AND FRAUD\" : [\"MOTOR VEHICLE THEFT\", \"THEFT\", \"DECEPTIVE PRACTICE\"],\n",
        "    \"WEAPONS AND INTIMIDATION\" : [\"INTIMIDATION\", \"CONCEALED CARRY LICENSE VIOLATION\", \"WEAPONS VIOLATION\", \"INTERFERENCE WITH PUBLIC OFFICER\"],\n",
        "    \"PUBLIC ORDER CRIME\" : [\"PUBLIC PEACE VIOLATION\", \"OBSCENITY\", \"GAMBLING\", \"LIQUOR LAW VIOLATION\"]\n",
        "}\n",
        "\n",
        "for new_crime_type, old_crime_types in similar_crime_types.items():\n",
        "    crime_df_filtered = crime_df_filtered.withColumn(\"primary_type\", when(col(\"primary_type\").isin(old_crime_types), new_crime_type).otherwise(col(\"primary_type\")))\n",
        "\n",
        "crime_df_filtered.select(\"primary_type\").distinct().show(100, False)"
      ],
      "metadata": {
        "colab": {
          "base_uri": "https://localhost:8080/"
        },
        "id": "Dq_OUFRwBGBD",
        "outputId": "13733ceb-028a-4331-8843-550fdf261a35"
      },
      "execution_count": 18,
      "outputs": [
        {
          "output_type": "stream",
          "name": "stdout",
          "text": [
            "+--------------------------+\n",
            "|primary_type              |\n",
            "+--------------------------+\n",
            "|SEXUAL CRIME              |\n",
            "|OFFENSE INVOLVING CHILDREN|\n",
            "|PUBLIC ORDER CRIME        |\n",
            "|CRIMINAL TRESPASS         |\n",
            "|ASSAULT                   |\n",
            "|DRUG  CRIME               |\n",
            "|BATTERY                   |\n",
            "|THEFT AND FRAUD           |\n",
            "|ROBBERY                   |\n",
            "|HOMICIDE                  |\n",
            "|PUBLIC INDECENCY          |\n",
            "|HUMAN TRAFFICKING         |\n",
            "|WEAPONS AND INTIMIDATION  |\n",
            "|CRIMINAL DAMAGE           |\n",
            "|KIDNAPPING                |\n",
            "|BURGLARY                  |\n",
            "+--------------------------+\n",
            "\n"
          ]
        }
      ]
    },
    {
      "cell_type": "markdown",
      "source": [
        "### Data analysis\n",
        "\n",
        "1. Year-wise trend of the crime"
      ],
      "metadata": {
        "id": "Axa5x4qyEtEH"
      }
    },
    {
      "cell_type": "code",
      "source": [
        "from matplotlib import pyplot as plt"
      ],
      "metadata": {
        "id": "gGdG89yYIycX"
      },
      "execution_count": 27,
      "outputs": []
    },
    {
      "cell_type": "code",
      "source": [
        "year_trend = crime_df_filtered.groupBy(\"Year\").count().orderBy(\"Year\")\n",
        "year_trend.show()"
      ],
      "metadata": {
        "colab": {
          "base_uri": "https://localhost:8080/"
        },
        "id": "zs77IhxJADdD",
        "outputId": "a18dcf63-be9e-414f-b969-02e3c800982f"
      },
      "execution_count": 19,
      "outputs": [
        {
          "output_type": "stream",
          "name": "stdout",
          "text": [
            "+----+------+\n",
            "|Year| count|\n",
            "+----+------+\n",
            "|2022|219012|\n",
            "|2023|243892|\n",
            "|2024|194139|\n",
            "+----+------+\n",
            "\n"
          ]
        }
      ]
    },
    {
      "cell_type": "code",
      "source": [
        "plt.figure(figsize=(10, 5))\n",
        "year_trend_df = year_trend.toPandas()\n",
        "plt.plot(year_trend_df['Year'], year_trend_df['count'])\n",
        "plt.xlabel(\"Year\")\n",
        "plt.ylabel(\"Number of Crimes\")\n",
        "plt.title(\"Year-wise Trend of Crimes\")\n",
        "plt.show()"
      ],
      "metadata": {
        "colab": {
          "base_uri": "https://localhost:8080/",
          "height": 487
        },
        "id": "AI6YtKczIVWJ",
        "outputId": "46956212-4107-45f3-99bc-9a6e791bfce1"
      },
      "execution_count": 39,
      "outputs": [
        {
          "output_type": "display_data",
          "data": {
            "text/plain": [
              "<Figure size 1000x500 with 1 Axes>"
            ],
            "image/png": "[encoded data removed]"
          },
          "metadata": {}
        }
      ]
    },
    {
      "cell_type": "markdown",
      "source": [
        "Let's find which hour of the day crime is highest"
      ],
      "metadata": {
        "id": "Hne-_5S8LC8C"
      }
    },
    {
      "cell_type": "code",
      "source": [
        "hourly_crime = crime_df_filtered.withColumn(\"Hour\", hour(\"Date\")).groupBy(\"Hour\").count().orderBy(desc(\"count\"))\n",
        "print(hourly_crime.show(1))\n",
        "print(f\"Highest crime hour is : {hourly_crime.first()['Hour']}\")"
      ],
      "metadata": {
        "colab": {
          "base_uri": "https://localhost:8080/"
        },
        "id": "8vqfP1JnE0wb",
        "outputId": "1147b297-bb4b-4776-a12a-8bb3266f15a4"
      },
      "execution_count": 63,
      "outputs": [
        {
          "output_type": "stream",
          "name": "stdout",
          "text": [
            "+----+-----+\n",
            "|Hour|count|\n",
            "+----+-----+\n",
            "|   0|48325|\n",
            "+----+-----+\n",
            "only showing top 1 row\n",
            "\n",
            "None\n",
            "Highest crime hour is : 0\n"
          ]
        }
      ]
    },
    {
      "cell_type": "code",
      "source": [
        "crime_df_top_ten = crime_df_filtered.groupBy(\"primary_type\").count().orderBy(desc(\"count\")).limit(10)\n",
        "crime_df_top_ten.show()"
      ],
      "metadata": {
        "colab": {
          "base_uri": "https://localhost:8080/"
        },
        "id": "1AcQl-fKLNsQ",
        "outputId": "8278627a-ee82-4f04-db12-990feb07d15b"
      },
      "execution_count": 65,
      "outputs": [
        {
          "output_type": "stream",
          "name": "stdout",
          "text": [
            "+--------------------+------+\n",
            "|        primary_type| count|\n",
            "+--------------------+------+\n",
            "|     THEFT AND FRAUD|270060|\n",
            "|             BATTERY|122638|\n",
            "|     CRIMINAL DAMAGE| 80357|\n",
            "|             ASSAULT| 62695|\n",
            "|             ROBBERY| 27446|\n",
            "|WEAPONS AND INTIM...| 26718|\n",
            "|            BURGLARY| 21608|\n",
            "|         DRUG  CRIME| 13953|\n",
            "|   CRIMINAL TRESPASS| 12848|\n",
            "|        SEXUAL CRIME|  8559|\n",
            "+--------------------+------+\n",
            "\n"
          ]
        }
      ]
    },
    {
      "cell_type": "code",
      "source": [
        "crime_df_top_ten_pd  = crime_df_top_ten.toPandas()\n",
        "plt.figure(figsize=(12, 6))\n",
        "plt.bar(crime_df_top_ten_pd[\"primary_type\"], crime_df_top_ten_pd[\"count\"])\n",
        "plt.title(\"Top 10 Crimes in Chicago\")\n",
        "plt.xlabel(\"Crime Type\")\n",
        "plt.ylabel(\"Count\")\n",
        "plt.xticks(rotation=45, ha='right')\n",
        "plt.tight_layout()\n",
        "plt.show()"
      ],
      "metadata": {
        "colab": {
          "base_uri": "https://localhost:8080/",
          "height": 607
        },
        "id": "GnJtQ48VL_Q9",
        "outputId": "7817d593-e75d-41c6-893b-3174ef209319"
      },
      "execution_count": 70,
      "outputs": [
        {
          "output_type": "display_data",
          "data": {
            "text/plain": [
              "<Figure size 1200x600 with 1 Axes>"
            ],
            "image/png": "[encoded data removed]"
          },
          "metadata": {}
        }
      ]
    }
  ]
}